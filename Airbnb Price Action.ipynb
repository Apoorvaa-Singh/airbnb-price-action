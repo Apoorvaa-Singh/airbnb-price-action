{
 "cells": [
  {
   "cell_type": "markdown",
   "id": "d26d32ec",
   "metadata": {},
   "source": [
    "# Exploratory Data Analysis\n",
    "####  <font color='Red'>Understanding the data better</font>\n",
    "<p><i>The Data used in this analysis is partial and is only for <b>Amsterdam</b> Location. And hence, the analysis done for this dataset is simple to give an idea of how do we work with <b>pandas library</b>  and how the price action analysis is carried out in general </i></p>"
   ]
  },
  {
   "cell_type": "markdown",
   "id": "08fdbe46",
   "metadata": {},
   "source": [
    "<h5> Importing the required libraries for the analysis </h5>"
   ]
  },
  {
   "cell_type": "code",
   "execution_count": 1,
   "id": "24e84ba0",
   "metadata": {},
   "outputs": [],
   "source": [
    "import numpy as np\n",
    "import pandas as pd\n",
    "import matplotlib.pyplot as plt\n",
    "%matplotlib inline"
   ]
  },
  {
   "cell_type": "markdown",
   "id": "aeb4fc45",
   "metadata": {},
   "source": [
    "<h5>Reading the csv file and creating a dataframe object. </h5>"
   ]
  },
  {
   "cell_type": "code",
   "execution_count": 2,
   "id": "a8d5ea64",
   "metadata": {},
   "outputs": [],
   "source": [
    "airbnb = pd.read_csv(\"airbnb_price.csv\")"
   ]
  },
  {
   "cell_type": "markdown",
   "id": "466a72e2",
   "metadata": {},
   "source": [
    "<h5> Reviewing the top and bottom 5 items from the imported data </h5>"
   ]
  },
  {
   "cell_type": "code",
   "execution_count": 3,
   "id": "fc46824c",
   "metadata": {},
   "outputs": [
    {
     "data": {
      "text/html": [
       "<div>\n",
       "<style scoped>\n",
       "    .dataframe tbody tr th:only-of-type {\n",
       "        vertical-align: middle;\n",
       "    }\n",
       "\n",
       "    .dataframe tbody tr th {\n",
       "        vertical-align: top;\n",
       "    }\n",
       "\n",
       "    .dataframe thead th {\n",
       "        text-align: right;\n",
       "    }\n",
       "</style>\n",
       "<table border=\"1\" class=\"dataframe\">\n",
       "  <thead>\n",
       "    <tr style=\"text-align: right;\">\n",
       "      <th></th>\n",
       "      <th>room_id</th>\n",
       "      <th>survey_id</th>\n",
       "      <th>host_id</th>\n",
       "      <th>room_type</th>\n",
       "      <th>country</th>\n",
       "      <th>city</th>\n",
       "      <th>borough</th>\n",
       "      <th>neighborhood</th>\n",
       "      <th>reviews</th>\n",
       "      <th>overall_satisfaction</th>\n",
       "      <th>accommodates</th>\n",
       "      <th>bedrooms</th>\n",
       "      <th>bathrooms</th>\n",
       "      <th>price</th>\n",
       "      <th>minstay</th>\n",
       "      <th>name</th>\n",
       "      <th>last_modified</th>\n",
       "      <th>latitude</th>\n",
       "      <th>longitude</th>\n",
       "      <th>location</th>\n",
       "    </tr>\n",
       "  </thead>\n",
       "  <tbody>\n",
       "    <tr>\n",
       "      <th>0</th>\n",
       "      <td>10176931</td>\n",
       "      <td>1476</td>\n",
       "      <td>49180562</td>\n",
       "      <td>Shared room</td>\n",
       "      <td>NaN</td>\n",
       "      <td>Amsterdam</td>\n",
       "      <td>NaN</td>\n",
       "      <td>De Pijp / Rivierenbuurt</td>\n",
       "      <td>7</td>\n",
       "      <td>4.5</td>\n",
       "      <td>2</td>\n",
       "      <td>1.0</td>\n",
       "      <td>NaN</td>\n",
       "      <td>156.0</td>\n",
       "      <td>NaN</td>\n",
       "      <td>Red Light/ Canal view apartment (Shared)</td>\n",
       "      <td>2017-07-23 13:06:27.391699</td>\n",
       "      <td>52.356209</td>\n",
       "      <td>4.887491</td>\n",
       "      <td>0101000020E610000033FAD170CA8C13403BC5AA41982D...</td>\n",
       "    </tr>\n",
       "    <tr>\n",
       "      <th>1</th>\n",
       "      <td>8935871</td>\n",
       "      <td>1476</td>\n",
       "      <td>46718394</td>\n",
       "      <td>Shared room</td>\n",
       "      <td>NaN</td>\n",
       "      <td>Amsterdam</td>\n",
       "      <td>NaN</td>\n",
       "      <td>Centrum West</td>\n",
       "      <td>45</td>\n",
       "      <td>4.5</td>\n",
       "      <td>4</td>\n",
       "      <td>1.0</td>\n",
       "      <td>NaN</td>\n",
       "      <td>126.0</td>\n",
       "      <td>NaN</td>\n",
       "      <td>Sunny and Cozy Living room in quite neighbours</td>\n",
       "      <td>2017-07-23 13:06:23.607187</td>\n",
       "      <td>52.378518</td>\n",
       "      <td>4.896120</td>\n",
       "      <td>0101000020E6100000842A357BA095134042791F477330...</td>\n",
       "    </tr>\n",
       "    <tr>\n",
       "      <th>2</th>\n",
       "      <td>14011697</td>\n",
       "      <td>1476</td>\n",
       "      <td>10346595</td>\n",
       "      <td>Shared room</td>\n",
       "      <td>NaN</td>\n",
       "      <td>Amsterdam</td>\n",
       "      <td>NaN</td>\n",
       "      <td>Watergraafsmeer</td>\n",
       "      <td>1</td>\n",
       "      <td>0.0</td>\n",
       "      <td>3</td>\n",
       "      <td>1.0</td>\n",
       "      <td>NaN</td>\n",
       "      <td>132.0</td>\n",
       "      <td>NaN</td>\n",
       "      <td>Amsterdam</td>\n",
       "      <td>2017-07-23 13:06:23.603546</td>\n",
       "      <td>52.338811</td>\n",
       "      <td>4.943592</td>\n",
       "      <td>0101000020E6100000A51133FB3CC613403543AA285E2B...</td>\n",
       "    </tr>\n",
       "    <tr>\n",
       "      <th>3</th>\n",
       "      <td>6137978</td>\n",
       "      <td>1476</td>\n",
       "      <td>8685430</td>\n",
       "      <td>Shared room</td>\n",
       "      <td>NaN</td>\n",
       "      <td>Amsterdam</td>\n",
       "      <td>NaN</td>\n",
       "      <td>Centrum West</td>\n",
       "      <td>7</td>\n",
       "      <td>5.0</td>\n",
       "      <td>4</td>\n",
       "      <td>1.0</td>\n",
       "      <td>NaN</td>\n",
       "      <td>121.0</td>\n",
       "      <td>NaN</td>\n",
       "      <td>Canal boat RIDE in Amsterdam</td>\n",
       "      <td>2017-07-23 13:06:22.689787</td>\n",
       "      <td>52.376319</td>\n",
       "      <td>4.890028</td>\n",
       "      <td>0101000020E6100000DF180280638F134085EE92382B30...</td>\n",
       "    </tr>\n",
       "    <tr>\n",
       "      <th>4</th>\n",
       "      <td>18630616</td>\n",
       "      <td>1476</td>\n",
       "      <td>70191803</td>\n",
       "      <td>Shared room</td>\n",
       "      <td>NaN</td>\n",
       "      <td>Amsterdam</td>\n",
       "      <td>NaN</td>\n",
       "      <td>De Baarsjes / Oud West</td>\n",
       "      <td>1</td>\n",
       "      <td>0.0</td>\n",
       "      <td>2</td>\n",
       "      <td>1.0</td>\n",
       "      <td>NaN</td>\n",
       "      <td>93.0</td>\n",
       "      <td>NaN</td>\n",
       "      <td>One room for rent in a three room appartment</td>\n",
       "      <td>2017-07-23 13:06:19.681469</td>\n",
       "      <td>52.370384</td>\n",
       "      <td>4.852873</td>\n",
       "      <td>0101000020E6100000CD902A8A57691340187B2FBE682F...</td>\n",
       "    </tr>\n",
       "  </tbody>\n",
       "</table>\n",
       "</div>"
      ],
      "text/plain": [
       "    room_id  survey_id   host_id    room_type  country       city  borough  \\\n",
       "0  10176931       1476  49180562  Shared room      NaN  Amsterdam      NaN   \n",
       "1   8935871       1476  46718394  Shared room      NaN  Amsterdam      NaN   \n",
       "2  14011697       1476  10346595  Shared room      NaN  Amsterdam      NaN   \n",
       "3   6137978       1476   8685430  Shared room      NaN  Amsterdam      NaN   \n",
       "4  18630616       1476  70191803  Shared room      NaN  Amsterdam      NaN   \n",
       "\n",
       "              neighborhood  reviews  overall_satisfaction  accommodates  \\\n",
       "0  De Pijp / Rivierenbuurt        7                   4.5             2   \n",
       "1             Centrum West       45                   4.5             4   \n",
       "2          Watergraafsmeer        1                   0.0             3   \n",
       "3             Centrum West        7                   5.0             4   \n",
       "4   De Baarsjes / Oud West        1                   0.0             2   \n",
       "\n",
       "   bedrooms  bathrooms  price  minstay  \\\n",
       "0       1.0        NaN  156.0      NaN   \n",
       "1       1.0        NaN  126.0      NaN   \n",
       "2       1.0        NaN  132.0      NaN   \n",
       "3       1.0        NaN  121.0      NaN   \n",
       "4       1.0        NaN   93.0      NaN   \n",
       "\n",
       "                                             name               last_modified  \\\n",
       "0        Red Light/ Canal view apartment (Shared)  2017-07-23 13:06:27.391699   \n",
       "1  Sunny and Cozy Living room in quite neighbours  2017-07-23 13:06:23.607187   \n",
       "2                                       Amsterdam  2017-07-23 13:06:23.603546   \n",
       "3                    Canal boat RIDE in Amsterdam  2017-07-23 13:06:22.689787   \n",
       "4    One room for rent in a three room appartment  2017-07-23 13:06:19.681469   \n",
       "\n",
       "    latitude  longitude                                           location  \n",
       "0  52.356209   4.887491  0101000020E610000033FAD170CA8C13403BC5AA41982D...  \n",
       "1  52.378518   4.896120  0101000020E6100000842A357BA095134042791F477330...  \n",
       "2  52.338811   4.943592  0101000020E6100000A51133FB3CC613403543AA285E2B...  \n",
       "3  52.376319   4.890028  0101000020E6100000DF180280638F134085EE92382B30...  \n",
       "4  52.370384   4.852873  0101000020E6100000CD902A8A57691340187B2FBE682F...  "
      ]
     },
     "execution_count": 3,
     "metadata": {},
     "output_type": "execute_result"
    }
   ],
   "source": [
    "airbnb.head()"
   ]
  },
  {
   "cell_type": "code",
   "execution_count": 4,
   "id": "afb440d6",
   "metadata": {},
   "outputs": [
    {
     "data": {
      "text/html": [
       "<div>\n",
       "<style scoped>\n",
       "    .dataframe tbody tr th:only-of-type {\n",
       "        vertical-align: middle;\n",
       "    }\n",
       "\n",
       "    .dataframe tbody tr th {\n",
       "        vertical-align: top;\n",
       "    }\n",
       "\n",
       "    .dataframe thead th {\n",
       "        text-align: right;\n",
       "    }\n",
       "</style>\n",
       "<table border=\"1\" class=\"dataframe\">\n",
       "  <thead>\n",
       "    <tr style=\"text-align: right;\">\n",
       "      <th></th>\n",
       "      <th>room_id</th>\n",
       "      <th>survey_id</th>\n",
       "      <th>host_id</th>\n",
       "      <th>room_type</th>\n",
       "      <th>country</th>\n",
       "      <th>city</th>\n",
       "      <th>borough</th>\n",
       "      <th>neighborhood</th>\n",
       "      <th>reviews</th>\n",
       "      <th>overall_satisfaction</th>\n",
       "      <th>accommodates</th>\n",
       "      <th>bedrooms</th>\n",
       "      <th>bathrooms</th>\n",
       "      <th>price</th>\n",
       "      <th>minstay</th>\n",
       "      <th>name</th>\n",
       "      <th>last_modified</th>\n",
       "      <th>latitude</th>\n",
       "      <th>longitude</th>\n",
       "      <th>location</th>\n",
       "    </tr>\n",
       "  </thead>\n",
       "  <tbody>\n",
       "    <tr>\n",
       "      <th>18718</th>\n",
       "      <td>17789893</td>\n",
       "      <td>1476</td>\n",
       "      <td>47501089</td>\n",
       "      <td>Private room</td>\n",
       "      <td>NaN</td>\n",
       "      <td>Amsterdam</td>\n",
       "      <td>NaN</td>\n",
       "      <td>Bijlmer Centrum</td>\n",
       "      <td>10</td>\n",
       "      <td>5.0</td>\n",
       "      <td>3</td>\n",
       "      <td>1.0</td>\n",
       "      <td>NaN</td>\n",
       "      <td>32.0</td>\n",
       "      <td>NaN</td>\n",
       "      <td>1-3 pers. Cozy Rm AFAS Live, ArenA, ZIGGODOME</td>\n",
       "      <td>2017-07-22 16:05:14.158963</td>\n",
       "      <td>52.319794</td>\n",
       "      <td>4.955638</td>\n",
       "      <td>0101000020E6100000684293C492D2134080BA8102EF28...</td>\n",
       "    </tr>\n",
       "    <tr>\n",
       "      <th>18719</th>\n",
       "      <td>16877166</td>\n",
       "      <td>1476</td>\n",
       "      <td>67093870</td>\n",
       "      <td>Private room</td>\n",
       "      <td>NaN</td>\n",
       "      <td>Amsterdam</td>\n",
       "      <td>NaN</td>\n",
       "      <td>Bijlmer Centrum</td>\n",
       "      <td>6</td>\n",
       "      <td>5.0</td>\n",
       "      <td>4</td>\n",
       "      <td>1.0</td>\n",
       "      <td>NaN</td>\n",
       "      <td>24.0</td>\n",
       "      <td>NaN</td>\n",
       "      <td>Modern Room by Arena, ZIGGO, HmH</td>\n",
       "      <td>2017-07-22 16:05:14.151986</td>\n",
       "      <td>52.319080</td>\n",
       "      <td>4.954822</td>\n",
       "      <td>0101000020E61000005801BEDBBCD1134062670A9DD728...</td>\n",
       "    </tr>\n",
       "    <tr>\n",
       "      <th>18720</th>\n",
       "      <td>19859427</td>\n",
       "      <td>1476</td>\n",
       "      <td>29724632</td>\n",
       "      <td>Private room</td>\n",
       "      <td>NaN</td>\n",
       "      <td>Amsterdam</td>\n",
       "      <td>NaN</td>\n",
       "      <td>Geuzenveld / Slotermeer</td>\n",
       "      <td>0</td>\n",
       "      <td>0.0</td>\n",
       "      <td>1</td>\n",
       "      <td>1.0</td>\n",
       "      <td>NaN</td>\n",
       "      <td>38.0</td>\n",
       "      <td>NaN</td>\n",
       "      <td>Private single room</td>\n",
       "      <td>2017-07-22 16:05:14.149610</td>\n",
       "      <td>52.384028</td>\n",
       "      <td>4.838403</td>\n",
       "      <td>0101000020E61000002079E750865A1340C85F5AD42731...</td>\n",
       "    </tr>\n",
       "    <tr>\n",
       "      <th>18721</th>\n",
       "      <td>17132164</td>\n",
       "      <td>1476</td>\n",
       "      <td>115156569</td>\n",
       "      <td>Private room</td>\n",
       "      <td>NaN</td>\n",
       "      <td>Amsterdam</td>\n",
       "      <td>NaN</td>\n",
       "      <td>Centrum West</td>\n",
       "      <td>13</td>\n",
       "      <td>4.5</td>\n",
       "      <td>2</td>\n",
       "      <td>1.0</td>\n",
       "      <td>NaN</td>\n",
       "      <td>36.0</td>\n",
       "      <td>NaN</td>\n",
       "      <td>City Center studio in Touristic Amsterdam 1</td>\n",
       "      <td>2017-07-22 16:05:14.146183</td>\n",
       "      <td>52.372120</td>\n",
       "      <td>4.890982</td>\n",
       "      <td>0101000020E6100000774CDD955D9013400118CFA0A12F...</td>\n",
       "    </tr>\n",
       "    <tr>\n",
       "      <th>18722</th>\n",
       "      <td>7605782</td>\n",
       "      <td>1476</td>\n",
       "      <td>39503013</td>\n",
       "      <td>Private room</td>\n",
       "      <td>NaN</td>\n",
       "      <td>Amsterdam</td>\n",
       "      <td>NaN</td>\n",
       "      <td>Centrum West</td>\n",
       "      <td>113</td>\n",
       "      <td>4.5</td>\n",
       "      <td>2</td>\n",
       "      <td>1.0</td>\n",
       "      <td>NaN</td>\n",
       "      <td>35.0</td>\n",
       "      <td>NaN</td>\n",
       "      <td>I have a room available for rent</td>\n",
       "      <td>2017-07-22 16:05:12.257054</td>\n",
       "      <td>52.381392</td>\n",
       "      <td>4.899658</td>\n",
       "      <td>0101000020E6100000CD565EF23F9913405F7AFB73D130...</td>\n",
       "    </tr>\n",
       "  </tbody>\n",
       "</table>\n",
       "</div>"
      ],
      "text/plain": [
       "        room_id  survey_id    host_id     room_type  country       city  \\\n",
       "18718  17789893       1476   47501089  Private room      NaN  Amsterdam   \n",
       "18719  16877166       1476   67093870  Private room      NaN  Amsterdam   \n",
       "18720  19859427       1476   29724632  Private room      NaN  Amsterdam   \n",
       "18721  17132164       1476  115156569  Private room      NaN  Amsterdam   \n",
       "18722   7605782       1476   39503013  Private room      NaN  Amsterdam   \n",
       "\n",
       "       borough             neighborhood  reviews  overall_satisfaction  \\\n",
       "18718      NaN          Bijlmer Centrum       10                   5.0   \n",
       "18719      NaN          Bijlmer Centrum        6                   5.0   \n",
       "18720      NaN  Geuzenveld / Slotermeer        0                   0.0   \n",
       "18721      NaN             Centrum West       13                   4.5   \n",
       "18722      NaN             Centrum West      113                   4.5   \n",
       "\n",
       "       accommodates  bedrooms  bathrooms  price  minstay  \\\n",
       "18718             3       1.0        NaN   32.0      NaN   \n",
       "18719             4       1.0        NaN   24.0      NaN   \n",
       "18720             1       1.0        NaN   38.0      NaN   \n",
       "18721             2       1.0        NaN   36.0      NaN   \n",
       "18722             2       1.0        NaN   35.0      NaN   \n",
       "\n",
       "                                                name  \\\n",
       "18718  1-3 pers. Cozy Rm AFAS Live, ArenA, ZIGGODOME   \n",
       "18719               Modern Room by Arena, ZIGGO, HmH   \n",
       "18720                            Private single room   \n",
       "18721    City Center studio in Touristic Amsterdam 1   \n",
       "18722               I have a room available for rent   \n",
       "\n",
       "                    last_modified   latitude  longitude  \\\n",
       "18718  2017-07-22 16:05:14.158963  52.319794   4.955638   \n",
       "18719  2017-07-22 16:05:14.151986  52.319080   4.954822   \n",
       "18720  2017-07-22 16:05:14.149610  52.384028   4.838403   \n",
       "18721  2017-07-22 16:05:14.146183  52.372120   4.890982   \n",
       "18722  2017-07-22 16:05:12.257054  52.381392   4.899658   \n",
       "\n",
       "                                                location  \n",
       "18718  0101000020E6100000684293C492D2134080BA8102EF28...  \n",
       "18719  0101000020E61000005801BEDBBCD1134062670A9DD728...  \n",
       "18720  0101000020E61000002079E750865A1340C85F5AD42731...  \n",
       "18721  0101000020E6100000774CDD955D9013400118CFA0A12F...  \n",
       "18722  0101000020E6100000CD565EF23F9913405F7AFB73D130...  "
      ]
     },
     "execution_count": 4,
     "metadata": {},
     "output_type": "execute_result"
    }
   ],
   "source": [
    "airbnb.tail()"
   ]
  },
  {
   "cell_type": "markdown",
   "id": "2e5688ee",
   "metadata": {},
   "source": [
    "<h5> Printing the information about the dataframe - Number of columns, non-null values, column labels and data type. It will give an idea about the shape of the data we are using. </h5>"
   ]
  },
  {
   "cell_type": "code",
   "execution_count": 5,
   "id": "9ef645e3",
   "metadata": {},
   "outputs": [
    {
     "name": "stdout",
     "output_type": "stream",
     "text": [
      "<class 'pandas.core.frame.DataFrame'>\n",
      "RangeIndex: 18723 entries, 0 to 18722\n",
      "Data columns (total 20 columns):\n",
      " #   Column                Non-Null Count  Dtype  \n",
      "---  ------                --------------  -----  \n",
      " 0   room_id               18723 non-null  int64  \n",
      " 1   survey_id             18723 non-null  int64  \n",
      " 2   host_id               18723 non-null  int64  \n",
      " 3   room_type             18723 non-null  object \n",
      " 4   country               0 non-null      float64\n",
      " 5   city                  18723 non-null  object \n",
      " 6   borough               0 non-null      float64\n",
      " 7   neighborhood          18723 non-null  object \n",
      " 8   reviews               18723 non-null  int64  \n",
      " 9   overall_satisfaction  18723 non-null  float64\n",
      " 10  accommodates          18723 non-null  int64  \n",
      " 11  bedrooms              18723 non-null  float64\n",
      " 12  bathrooms             0 non-null      float64\n",
      " 13  price                 18723 non-null  float64\n",
      " 14  minstay               0 non-null      float64\n",
      " 15  name                  18671 non-null  object \n",
      " 16  last_modified         18723 non-null  object \n",
      " 17  latitude              18723 non-null  float64\n",
      " 18  longitude             18723 non-null  float64\n",
      " 19  location              18723 non-null  object \n",
      "dtypes: float64(9), int64(5), object(6)\n",
      "memory usage: 2.9+ MB\n"
     ]
    }
   ],
   "source": [
    "airbnb.info()"
   ]
  },
  {
   "cell_type": "markdown",
   "id": "9100f47c",
   "metadata": {},
   "source": [
    "<h5> Since columns country, borough, bathrooms and  minstay have no values in the them, removing them from the dataset. Also dropping the Other columns with same values in all the rows: city, survey_id </h5>"
   ]
  },
  {
   "cell_type": "code",
   "execution_count": 6,
   "id": "48ea95ff",
   "metadata": {},
   "outputs": [],
   "source": [
    "airbnb.drop([\"country\", \"borough\", \"bathrooms\", \"minstay\", \"city\",\"survey_id\"],axis = 1, inplace  = True) "
   ]
  },
  {
   "cell_type": "code",
   "execution_count": 7,
   "id": "33869827",
   "metadata": {},
   "outputs": [
    {
     "name": "stdout",
     "output_type": "stream",
     "text": [
      "<class 'pandas.core.frame.DataFrame'>\n",
      "RangeIndex: 18723 entries, 0 to 18722\n",
      "Data columns (total 14 columns):\n",
      " #   Column                Non-Null Count  Dtype  \n",
      "---  ------                --------------  -----  \n",
      " 0   room_id               18723 non-null  int64  \n",
      " 1   host_id               18723 non-null  int64  \n",
      " 2   room_type             18723 non-null  object \n",
      " 3   neighborhood          18723 non-null  object \n",
      " 4   reviews               18723 non-null  int64  \n",
      " 5   overall_satisfaction  18723 non-null  float64\n",
      " 6   accommodates          18723 non-null  int64  \n",
      " 7   bedrooms              18723 non-null  float64\n",
      " 8   price                 18723 non-null  float64\n",
      " 9   name                  18671 non-null  object \n",
      " 10  last_modified         18723 non-null  object \n",
      " 11  latitude              18723 non-null  float64\n",
      " 12  longitude             18723 non-null  float64\n",
      " 13  location              18723 non-null  object \n",
      "dtypes: float64(5), int64(4), object(5)\n",
      "memory usage: 2.0+ MB\n"
     ]
    }
   ],
   "source": [
    "airbnb.info()"
   ]
  },
  {
   "cell_type": "markdown",
   "id": "d3298d27",
   "metadata": {},
   "source": [
    "<h5> After checking the info - we see that there are few entries in the data set where name of the property is null (52 such entries). Describing the Dataset for overall summary, Selecting the relevant columns to desccribe from the entire dataset </h5>"
   ]
  },
  {
   "cell_type": "code",
   "execution_count": 8,
   "id": "ae14ad5f",
   "metadata": {},
   "outputs": [
    {
     "data": {
      "text/html": [
       "<div>\n",
       "<style scoped>\n",
       "    .dataframe tbody tr th:only-of-type {\n",
       "        vertical-align: middle;\n",
       "    }\n",
       "\n",
       "    .dataframe tbody tr th {\n",
       "        vertical-align: top;\n",
       "    }\n",
       "\n",
       "    .dataframe thead th {\n",
       "        text-align: right;\n",
       "    }\n",
       "</style>\n",
       "<table border=\"1\" class=\"dataframe\">\n",
       "  <thead>\n",
       "    <tr style=\"text-align: right;\">\n",
       "      <th></th>\n",
       "      <th>reviews</th>\n",
       "      <th>overall_satisfaction</th>\n",
       "      <th>accommodates</th>\n",
       "      <th>bedrooms</th>\n",
       "      <th>price</th>\n",
       "    </tr>\n",
       "  </thead>\n",
       "  <tbody>\n",
       "    <tr>\n",
       "      <th>count</th>\n",
       "      <td>18723.000000</td>\n",
       "      <td>18723.000000</td>\n",
       "      <td>18723.000000</td>\n",
       "      <td>18723.000000</td>\n",
       "      <td>18723.000000</td>\n",
       "    </tr>\n",
       "    <tr>\n",
       "      <th>mean</th>\n",
       "      <td>16.741548</td>\n",
       "      <td>3.301127</td>\n",
       "      <td>2.922021</td>\n",
       "      <td>1.430380</td>\n",
       "      <td>166.599477</td>\n",
       "    </tr>\n",
       "    <tr>\n",
       "      <th>std</th>\n",
       "      <td>33.522630</td>\n",
       "      <td>2.213558</td>\n",
       "      <td>1.327524</td>\n",
       "      <td>0.879019</td>\n",
       "      <td>108.943849</td>\n",
       "    </tr>\n",
       "    <tr>\n",
       "      <th>min</th>\n",
       "      <td>0.000000</td>\n",
       "      <td>0.000000</td>\n",
       "      <td>1.000000</td>\n",
       "      <td>0.000000</td>\n",
       "      <td>12.000000</td>\n",
       "    </tr>\n",
       "    <tr>\n",
       "      <th>25%</th>\n",
       "      <td>2.000000</td>\n",
       "      <td>0.000000</td>\n",
       "      <td>2.000000</td>\n",
       "      <td>1.000000</td>\n",
       "      <td>108.000000</td>\n",
       "    </tr>\n",
       "    <tr>\n",
       "      <th>50%</th>\n",
       "      <td>6.000000</td>\n",
       "      <td>4.500000</td>\n",
       "      <td>2.000000</td>\n",
       "      <td>1.000000</td>\n",
       "      <td>144.000000</td>\n",
       "    </tr>\n",
       "    <tr>\n",
       "      <th>75%</th>\n",
       "      <td>17.000000</td>\n",
       "      <td>5.000000</td>\n",
       "      <td>4.000000</td>\n",
       "      <td>2.000000</td>\n",
       "      <td>192.000000</td>\n",
       "    </tr>\n",
       "    <tr>\n",
       "      <th>max</th>\n",
       "      <td>532.000000</td>\n",
       "      <td>5.000000</td>\n",
       "      <td>17.000000</td>\n",
       "      <td>10.000000</td>\n",
       "      <td>6000.000000</td>\n",
       "    </tr>\n",
       "  </tbody>\n",
       "</table>\n",
       "</div>"
      ],
      "text/plain": [
       "            reviews  overall_satisfaction  accommodates      bedrooms  \\\n",
       "count  18723.000000          18723.000000  18723.000000  18723.000000   \n",
       "mean      16.741548              3.301127      2.922021      1.430380   \n",
       "std       33.522630              2.213558      1.327524      0.879019   \n",
       "min        0.000000              0.000000      1.000000      0.000000   \n",
       "25%        2.000000              0.000000      2.000000      1.000000   \n",
       "50%        6.000000              4.500000      2.000000      1.000000   \n",
       "75%       17.000000              5.000000      4.000000      2.000000   \n",
       "max      532.000000              5.000000     17.000000     10.000000   \n",
       "\n",
       "              price  \n",
       "count  18723.000000  \n",
       "mean     166.599477  \n",
       "std      108.943849  \n",
       "min       12.000000  \n",
       "25%      108.000000  \n",
       "50%      144.000000  \n",
       "75%      192.000000  \n",
       "max     6000.000000  "
      ]
     },
     "execution_count": 8,
     "metadata": {},
     "output_type": "execute_result"
    }
   ],
   "source": [
    "airbnb[[\"reviews\", \"overall_satisfaction\",\"accommodates\",\"bedrooms\", \"price\"]].describe()"
   ]
  },
  {
   "cell_type": "markdown",
   "id": "baaed72d",
   "metadata": {},
   "source": [
    "<h5>On an average there are 16 reviews given to each property in the location and have an average 3.3 ratings for overall satisfaction. The properties in general can accomodate 3 people and cost around $166 </h5>"
   ]
  },
  {
   "cell_type": "markdown",
   "id": "f39e1f0a",
   "metadata": {},
   "source": [
    "<h5> <font color = \"Red\"> Digging in the data a little more </font></h5>"
   ]
  },
  {
   "cell_type": "markdown",
   "id": "a80fe5d5",
   "metadata": {},
   "source": [
    "<h5> What are the various types are room available and what percentage of the total values they account for </h5>"
   ]
  },
  {
   "cell_type": "code",
   "execution_count": 9,
   "id": "56537da2",
   "metadata": {},
   "outputs": [
    {
     "data": {
      "text/plain": [
       "Entire home/apt    14978\n",
       "Private room        3682\n",
       "Shared room           63\n",
       "Name: room_type, dtype: int64"
      ]
     },
     "execution_count": 9,
     "metadata": {},
     "output_type": "execute_result"
    }
   ],
   "source": [
    "airbnb[\"room_type\"].value_counts()"
   ]
  },
  {
   "cell_type": "code",
   "execution_count": 10,
   "id": "bf6cc1b5",
   "metadata": {},
   "outputs": [
    {
     "data": {
      "text/plain": [
       "Entire home/apt    0.799979\n",
       "Private room       0.196657\n",
       "Shared room        0.003365\n",
       "Name: room_type, dtype: float64"
      ]
     },
     "execution_count": 10,
     "metadata": {},
     "output_type": "execute_result"
    }
   ],
   "source": [
    "airbnb[\"room_type\"].value_counts()/airbnb[\"room_type\"].count()"
   ]
  },
  {
   "cell_type": "markdown",
   "id": "85cc7cf7",
   "metadata": {},
   "source": [
    "<h5> Since the Shared room type contribute to only <b> <font color = \"red\"> 3% </b> </font> of the total available room type. We would drop the \"Shared room type\" as the count in the data is very low compared to others. </h5>"
   ]
  },
  {
   "cell_type": "code",
   "execution_count": 11,
   "id": "4a2765a6",
   "metadata": {},
   "outputs": [],
   "source": [
    "airbnb = airbnb[airbnb[\"room_type\"] != \"Shared room\"]"
   ]
  },
  {
   "cell_type": "markdown",
   "id": "41dda937",
   "metadata": {},
   "source": [
    "<h5> Analysing how popular each neaighbourhood is with respect to airbnb apartment number.These nhumbers tells us what is the most common neighborhood or where are the most rooms situated.  We can do multiple analysis around this including - prefered locality, corelation between location and rating and reviews, rent and occupancy </h5> "
   ]
  },
  {
   "cell_type": "code",
   "execution_count": 12,
   "id": "1d2f95b4",
   "metadata": {},
   "outputs": [
    {
     "data": {
      "text/plain": [
       "De Baarsjes / Oud West                    3280\n",
       "De Pijp / Rivierenbuurt                   2371\n",
       "Centrum West                              2217\n",
       "Centrum Oost                              1724\n",
       "Westerpark                                1424\n",
       "Noord-West / Noord-Midden                 1416\n",
       "Oud Oost                                  1167\n",
       "Bos en Lommer                              985\n",
       "Oostelijk Havengebied / Indische Buurt     916\n",
       "Watergraafsmeer                            515\n",
       "Oud Noord                                  492\n",
       "Ijburg / Eiland Zeeburg                    378\n",
       "Slotervaart                                346\n",
       "Buitenveldert / Zuidas                     248\n",
       "Noord West                                 241\n",
       "Noord Oost                                 221\n",
       "Geuzenveld / Slotermeer                    192\n",
       "Osdorp                                     161\n",
       "De Aker / Nieuw Sloten                     114\n",
       "Bijlmer Centrum                             98\n",
       "Bijlmer Oost                                97\n",
       "Gaasperdam / Driemond                       42\n",
       "Westpoort                                   15\n",
       "Name: neighborhood, dtype: int64"
      ]
     },
     "execution_count": 12,
     "metadata": {},
     "output_type": "execute_result"
    }
   ],
   "source": [
    "airbnb[\"neighborhood\"].value_counts()"
   ]
  },
  {
   "cell_type": "markdown",
   "id": "c39efa7f",
   "metadata": {},
   "source": [
    "<h5> Checking the number of properties against each review count </h5> "
   ]
  },
  {
   "cell_type": "code",
   "execution_count": 13,
   "id": "ca1d4461",
   "metadata": {},
   "outputs": [
    {
     "data": {
      "text/plain": [
       "0      2975\n",
       "1      1500\n",
       "2      1238\n",
       "3      1100\n",
       "4       924\n",
       "       ... \n",
       "390       1\n",
       "166       1\n",
       "323       1\n",
       "201       1\n",
       "188       1\n",
       "Name: reviews, Length: 283, dtype: int64"
      ]
     },
     "execution_count": 13,
     "metadata": {},
     "output_type": "execute_result"
    }
   ],
   "source": [
    "airbnb[\"reviews\"].value_counts()"
   ]
  },
  {
   "cell_type": "markdown",
   "id": "1fab0b8d",
   "metadata": {},
   "source": [
    "<h5> Checking the number of properties againt each rating </h5>"
   ]
  },
  {
   "cell_type": "code",
   "execution_count": 14,
   "id": "2876987d",
   "metadata": {},
   "outputs": [
    {
     "data": {
      "text/plain": [
       "5.0    7697\n",
       "0.0    5721\n",
       "4.5    4543\n",
       "4.0     573\n",
       "3.5     105\n",
       "3.0      19\n",
       "2.5       1\n",
       "1.0       1\n",
       "Name: overall_satisfaction, dtype: int64"
      ]
     },
     "execution_count": 14,
     "metadata": {},
     "output_type": "execute_result"
    }
   ],
   "source": [
    "airbnb[\"overall_satisfaction\"].value_counts()"
   ]
  },
  {
   "cell_type": "markdown",
   "id": "486eecdc",
   "metadata": {},
   "source": [
    "<h5> Finding those properties where overall_satisfaction is zero and exploring them </h5>"
   ]
  },
  {
   "cell_type": "code",
   "execution_count": 15,
   "id": "ca692cda",
   "metadata": {},
   "outputs": [],
   "source": [
    "airbnb_0_satisfaction = airbnb[airbnb[\"overall_satisfaction\"] == 0.0]"
   ]
  },
  {
   "cell_type": "code",
   "execution_count": 16,
   "id": "90a7084d",
   "metadata": {},
   "outputs": [
    {
     "data": {
      "text/html": [
       "<div>\n",
       "<style scoped>\n",
       "    .dataframe tbody tr th:only-of-type {\n",
       "        vertical-align: middle;\n",
       "    }\n",
       "\n",
       "    .dataframe tbody tr th {\n",
       "        vertical-align: top;\n",
       "    }\n",
       "\n",
       "    .dataframe thead th {\n",
       "        text-align: right;\n",
       "    }\n",
       "</style>\n",
       "<table border=\"1\" class=\"dataframe\">\n",
       "  <thead>\n",
       "    <tr style=\"text-align: right;\">\n",
       "      <th></th>\n",
       "      <th>room_id</th>\n",
       "      <th>host_id</th>\n",
       "      <th>room_type</th>\n",
       "      <th>neighborhood</th>\n",
       "      <th>reviews</th>\n",
       "      <th>overall_satisfaction</th>\n",
       "      <th>accommodates</th>\n",
       "      <th>bedrooms</th>\n",
       "      <th>price</th>\n",
       "      <th>name</th>\n",
       "      <th>last_modified</th>\n",
       "      <th>latitude</th>\n",
       "      <th>longitude</th>\n",
       "      <th>location</th>\n",
       "    </tr>\n",
       "  </thead>\n",
       "  <tbody>\n",
       "    <tr>\n",
       "      <th>34</th>\n",
       "      <td>3119298</td>\n",
       "      <td>15847782</td>\n",
       "      <td>Entire home/apt</td>\n",
       "      <td>Westerpark</td>\n",
       "      <td>1</td>\n",
       "      <td>0.0</td>\n",
       "      <td>8</td>\n",
       "      <td>3.0</td>\n",
       "      <td>445.0</td>\n",
       "      <td>Modern 5-8 person apartment</td>\n",
       "      <td>2017-07-23 12:58:15.945759</td>\n",
       "      <td>52.377581</td>\n",
       "      <td>4.873119</td>\n",
       "      <td>0101000020E61000009D103AE8127E1340A54BFF925430...</td>\n",
       "    </tr>\n",
       "    <tr>\n",
       "      <th>36</th>\n",
       "      <td>10511291</td>\n",
       "      <td>5421078</td>\n",
       "      <td>Entire home/apt</td>\n",
       "      <td>Watergraafsmeer</td>\n",
       "      <td>1</td>\n",
       "      <td>0.0</td>\n",
       "      <td>8</td>\n",
       "      <td>3.0</td>\n",
       "      <td>1412.0</td>\n",
       "      <td>Whole house 200m2 Frankendael Park</td>\n",
       "      <td>2017-07-23 12:30:42.249974</td>\n",
       "      <td>52.350968</td>\n",
       "      <td>4.929821</td>\n",
       "      <td>0101000020E61000003B8908FF22B81340A5F8F884EC2C...</td>\n",
       "    </tr>\n",
       "    <tr>\n",
       "      <th>37</th>\n",
       "      <td>18047871</td>\n",
       "      <td>9302267</td>\n",
       "      <td>Entire home/apt</td>\n",
       "      <td>Centrum West</td>\n",
       "      <td>0</td>\n",
       "      <td>0.0</td>\n",
       "      <td>4</td>\n",
       "      <td>4.0</td>\n",
       "      <td>541.0</td>\n",
       "      <td>Great 4 bedroom apartment at the flower market</td>\n",
       "      <td>2017-07-23 12:30:27.637777</td>\n",
       "      <td>52.367890</td>\n",
       "      <td>4.889273</td>\n",
       "      <td>0101000020E6100000FDDCD0949D8E13404243FF04172F...</td>\n",
       "    </tr>\n",
       "    <tr>\n",
       "      <th>38</th>\n",
       "      <td>7468232</td>\n",
       "      <td>7215538</td>\n",
       "      <td>Entire home/apt</td>\n",
       "      <td>Noord-West / Noord-Midden</td>\n",
       "      <td>2</td>\n",
       "      <td>0.0</td>\n",
       "      <td>4</td>\n",
       "      <td>2.0</td>\n",
       "      <td>594.0</td>\n",
       "      <td>MuseumSquare apartment with garden</td>\n",
       "      <td>2017-07-23 12:30:27.627216</td>\n",
       "      <td>52.355169</td>\n",
       "      <td>4.883219</td>\n",
       "      <td>0101000020E6100000C4D2C08F6A881340C9C6832D762D...</td>\n",
       "    </tr>\n",
       "    <tr>\n",
       "      <th>40</th>\n",
       "      <td>5818567</td>\n",
       "      <td>29561840</td>\n",
       "      <td>Entire home/apt</td>\n",
       "      <td>De Aker / Nieuw Sloten</td>\n",
       "      <td>0</td>\n",
       "      <td>0.0</td>\n",
       "      <td>4</td>\n",
       "      <td>2.0</td>\n",
       "      <td>361.0</td>\n",
       "      <td>Luxurous, modern, bright appartment</td>\n",
       "      <td>2017-07-23 12:29:20.728096</td>\n",
       "      <td>52.346007</td>\n",
       "      <td>4.811830</td>\n",
       "      <td>0101000020E61000008FA50F5D503F1340F29716F5492C...</td>\n",
       "    </tr>\n",
       "  </tbody>\n",
       "</table>\n",
       "</div>"
      ],
      "text/plain": [
       "     room_id   host_id        room_type               neighborhood  reviews  \\\n",
       "34   3119298  15847782  Entire home/apt                 Westerpark        1   \n",
       "36  10511291   5421078  Entire home/apt            Watergraafsmeer        1   \n",
       "37  18047871   9302267  Entire home/apt               Centrum West        0   \n",
       "38   7468232   7215538  Entire home/apt  Noord-West / Noord-Midden        2   \n",
       "40   5818567  29561840  Entire home/apt     De Aker / Nieuw Sloten        0   \n",
       "\n",
       "    overall_satisfaction  accommodates  bedrooms   price  \\\n",
       "34                   0.0             8       3.0   445.0   \n",
       "36                   0.0             8       3.0  1412.0   \n",
       "37                   0.0             4       4.0   541.0   \n",
       "38                   0.0             4       2.0   594.0   \n",
       "40                   0.0             4       2.0   361.0   \n",
       "\n",
       "                                              name  \\\n",
       "34                     Modern 5-8 person apartment   \n",
       "36              Whole house 200m2 Frankendael Park   \n",
       "37  Great 4 bedroom apartment at the flower market   \n",
       "38              MuseumSquare apartment with garden   \n",
       "40             Luxurous, modern, bright appartment   \n",
       "\n",
       "                 last_modified   latitude  longitude  \\\n",
       "34  2017-07-23 12:58:15.945759  52.377581   4.873119   \n",
       "36  2017-07-23 12:30:42.249974  52.350968   4.929821   \n",
       "37  2017-07-23 12:30:27.637777  52.367890   4.889273   \n",
       "38  2017-07-23 12:30:27.627216  52.355169   4.883219   \n",
       "40  2017-07-23 12:29:20.728096  52.346007   4.811830   \n",
       "\n",
       "                                             location  \n",
       "34  0101000020E61000009D103AE8127E1340A54BFF925430...  \n",
       "36  0101000020E61000003B8908FF22B81340A5F8F884EC2C...  \n",
       "37  0101000020E6100000FDDCD0949D8E13404243FF04172F...  \n",
       "38  0101000020E6100000C4D2C08F6A881340C9C6832D762D...  \n",
       "40  0101000020E61000008FA50F5D503F1340F29716F5492C...  "
      ]
     },
     "execution_count": 16,
     "metadata": {},
     "output_type": "execute_result"
    }
   ],
   "source": [
    "airbnb_0_satisfaction.head()"
   ]
  },
  {
   "cell_type": "code",
   "execution_count": 17,
   "id": "0275bc56",
   "metadata": {},
   "outputs": [
    {
     "data": {
      "text/html": [
       "<div>\n",
       "<style scoped>\n",
       "    .dataframe tbody tr th:only-of-type {\n",
       "        vertical-align: middle;\n",
       "    }\n",
       "\n",
       "    .dataframe tbody tr th {\n",
       "        vertical-align: top;\n",
       "    }\n",
       "\n",
       "    .dataframe thead th {\n",
       "        text-align: right;\n",
       "    }\n",
       "</style>\n",
       "<table border=\"1\" class=\"dataframe\">\n",
       "  <thead>\n",
       "    <tr style=\"text-align: right;\">\n",
       "      <th></th>\n",
       "      <th>latitude</th>\n",
       "      <th>longitude</th>\n",
       "    </tr>\n",
       "  </thead>\n",
       "  <tbody>\n",
       "    <tr>\n",
       "      <th>count</th>\n",
       "      <td>18660.000000</td>\n",
       "      <td>18660.000000</td>\n",
       "    </tr>\n",
       "    <tr>\n",
       "      <th>mean</th>\n",
       "      <td>52.365261</td>\n",
       "      <td>4.888606</td>\n",
       "    </tr>\n",
       "    <tr>\n",
       "      <th>std</th>\n",
       "      <td>0.015141</td>\n",
       "      <td>0.034530</td>\n",
       "    </tr>\n",
       "    <tr>\n",
       "      <th>min</th>\n",
       "      <td>52.296200</td>\n",
       "      <td>4.763264</td>\n",
       "    </tr>\n",
       "    <tr>\n",
       "      <th>25%</th>\n",
       "      <td>52.355251</td>\n",
       "      <td>4.864372</td>\n",
       "    </tr>\n",
       "    <tr>\n",
       "      <th>50%</th>\n",
       "      <td>52.364624</td>\n",
       "      <td>4.885995</td>\n",
       "    </tr>\n",
       "    <tr>\n",
       "      <th>75%</th>\n",
       "      <td>52.374789</td>\n",
       "      <td>4.907502</td>\n",
       "    </tr>\n",
       "    <tr>\n",
       "      <th>max</th>\n",
       "      <td>52.424980</td>\n",
       "      <td>5.027689</td>\n",
       "    </tr>\n",
       "  </tbody>\n",
       "</table>\n",
       "</div>"
      ],
      "text/plain": [
       "           latitude     longitude\n",
       "count  18660.000000  18660.000000\n",
       "mean      52.365261      4.888606\n",
       "std        0.015141      0.034530\n",
       "min       52.296200      4.763264\n",
       "25%       52.355251      4.864372\n",
       "50%       52.364624      4.885995\n",
       "75%       52.374789      4.907502\n",
       "max       52.424980      5.027689"
      ]
     },
     "execution_count": 17,
     "metadata": {},
     "output_type": "execute_result"
    }
   ],
   "source": [
    "airbnb[[ \"latitude\",\"longitude\"]].describe()"
   ]
  },
  {
   "cell_type": "code",
   "execution_count": 18,
   "id": "e637ba27",
   "metadata": {},
   "outputs": [
    {
     "data": {
      "text/html": [
       "<div>\n",
       "<style scoped>\n",
       "    .dataframe tbody tr th:only-of-type {\n",
       "        vertical-align: middle;\n",
       "    }\n",
       "\n",
       "    .dataframe tbody tr th {\n",
       "        vertical-align: top;\n",
       "    }\n",
       "\n",
       "    .dataframe thead th {\n",
       "        text-align: right;\n",
       "    }\n",
       "</style>\n",
       "<table border=\"1\" class=\"dataframe\">\n",
       "  <thead>\n",
       "    <tr style=\"text-align: right;\">\n",
       "      <th></th>\n",
       "      <th>latitude</th>\n",
       "      <th>longitude</th>\n",
       "    </tr>\n",
       "  </thead>\n",
       "  <tbody>\n",
       "    <tr>\n",
       "      <th>count</th>\n",
       "      <td>5721.000000</td>\n",
       "      <td>5721.000000</td>\n",
       "    </tr>\n",
       "    <tr>\n",
       "      <th>mean</th>\n",
       "      <td>52.364361</td>\n",
       "      <td>4.889534</td>\n",
       "    </tr>\n",
       "    <tr>\n",
       "      <th>std</th>\n",
       "      <td>0.015795</td>\n",
       "      <td>0.036742</td>\n",
       "    </tr>\n",
       "    <tr>\n",
       "      <th>min</th>\n",
       "      <td>52.296200</td>\n",
       "      <td>4.771083</td>\n",
       "    </tr>\n",
       "    <tr>\n",
       "      <th>25%</th>\n",
       "      <td>52.353951</td>\n",
       "      <td>4.862918</td>\n",
       "    </tr>\n",
       "    <tr>\n",
       "      <th>50%</th>\n",
       "      <td>52.363567</td>\n",
       "      <td>4.886634</td>\n",
       "    </tr>\n",
       "    <tr>\n",
       "      <th>75%</th>\n",
       "      <td>52.374183</td>\n",
       "      <td>4.909861</td>\n",
       "    </tr>\n",
       "    <tr>\n",
       "      <th>max</th>\n",
       "      <td>52.424980</td>\n",
       "      <td>5.013075</td>\n",
       "    </tr>\n",
       "  </tbody>\n",
       "</table>\n",
       "</div>"
      ],
      "text/plain": [
       "          latitude    longitude\n",
       "count  5721.000000  5721.000000\n",
       "mean     52.364361     4.889534\n",
       "std       0.015795     0.036742\n",
       "min      52.296200     4.771083\n",
       "25%      52.353951     4.862918\n",
       "50%      52.363567     4.886634\n",
       "75%      52.374183     4.909861\n",
       "max      52.424980     5.013075"
      ]
     },
     "execution_count": 18,
     "metadata": {},
     "output_type": "execute_result"
    }
   ],
   "source": [
    "airbnb_0_satisfaction[[\"latitude\",\"longitude\"]].describe()"
   ]
  },
  {
   "cell_type": "markdown",
   "id": "df544fee",
   "metadata": {},
   "source": [
    "<h5> Satisfaction Rating where a property can accomodate 3 people </h5>"
   ]
  },
  {
   "cell_type": "code",
   "execution_count": 19,
   "id": "a36eb194",
   "metadata": {},
   "outputs": [
    {
     "data": {
      "text/plain": [
       "5.0    621\n",
       "0.0    483\n",
       "4.5    411\n",
       "4.0     56\n",
       "3.5      8\n",
       "3.0      4\n",
       "Name: overall_satisfaction, dtype: int64"
      ]
     },
     "execution_count": 19,
     "metadata": {},
     "output_type": "execute_result"
    }
   ],
   "source": [
    "airbnb[airbnb[\"accommodates\"]==3][\"overall_satisfaction\"].value_counts()"
   ]
  },
  {
   "cell_type": "markdown",
   "id": "c1363b30",
   "metadata": {},
   "source": [
    "<h5> Satisfaction Rating where bedroom is 2 </h5>\n"
   ]
  },
  {
   "cell_type": "code",
   "execution_count": 20,
   "id": "6e837673",
   "metadata": {},
   "outputs": [
    {
     "data": {
      "text/plain": [
       "5.0    1787\n",
       "0.0    1487\n",
       "4.5    1033\n",
       "4.0     127\n",
       "3.5      16\n",
       "3.0       6\n",
       "Name: overall_satisfaction, dtype: int64"
      ]
     },
     "execution_count": 20,
     "metadata": {},
     "output_type": "execute_result"
    }
   ],
   "source": [
    " airbnb[airbnb[\"bedrooms\"]==2][\"overall_satisfaction\"].value_counts()"
   ]
  },
  {
   "cell_type": "markdown",
   "id": "a2367398",
   "metadata": {},
   "source": [
    "<h5> Rating based on the price range. Satisfaction Rating Where price is between Dollar 150 and 180 (both included) </h5>"
   ]
  },
  {
   "cell_type": "code",
   "execution_count": 21,
   "id": "74355fe6",
   "metadata": {},
   "outputs": [
    {
     "data": {
      "text/plain": [
       "5.0    1634\n",
       "0.0    1169\n",
       "4.5     881\n",
       "4.0     104\n",
       "3.5      12\n",
       "3.0       4\n",
       "Name: overall_satisfaction, dtype: int64"
      ]
     },
     "execution_count": 21,
     "metadata": {},
     "output_type": "execute_result"
    }
   ],
   "source": [
    "airbnb[(airbnb[\"price\"]>= 150) & (airbnb[\"price\"] <= 180)][\"overall_satisfaction\"].value_counts()"
   ]
  },
  {
   "cell_type": "markdown",
   "id": "f81266ca",
   "metadata": {},
   "source": [
    "<p>Based on above exploration, inserting overall satisfaction value of 4 where it is missing. Imputing the value 4 in overall satisfaction where the value is present as 0. And will look back at the overall satisfaction rating.</p>"
   ]
  },
  {
   "cell_type": "code",
   "execution_count": 22,
   "id": "a982c51a",
   "metadata": {},
   "outputs": [],
   "source": [
    "airbnb[\"overall_satisfaction\"].mask(airbnb[\"overall_satisfaction\"] == 0.0, 4.0, inplace = True)"
   ]
  },
  {
   "cell_type": "code",
   "execution_count": 23,
   "id": "55aaefa0",
   "metadata": {},
   "outputs": [
    {
     "data": {
      "text/plain": [
       "5.0    7697\n",
       "4.0    6294\n",
       "4.5    4543\n",
       "3.5     105\n",
       "3.0      19\n",
       "2.5       1\n",
       "1.0       1\n",
       "Name: overall_satisfaction, dtype: int64"
      ]
     },
     "execution_count": 23,
     "metadata": {},
     "output_type": "execute_result"
    }
   ],
   "source": [
    "airbnb[\"overall_satisfaction\"].value_counts()"
   ]
  },
  {
   "cell_type": "code",
   "execution_count": 24,
   "id": "7db34edb",
   "metadata": {},
   "outputs": [
    {
     "data": {
      "text/plain": [
       "5.0    0.412487\n",
       "4.0    0.337299\n",
       "4.5    0.243462\n",
       "3.5    0.005627\n",
       "3.0    0.001018\n",
       "2.5    0.000054\n",
       "1.0    0.000054\n",
       "Name: overall_satisfaction, dtype: float64"
      ]
     },
     "execution_count": 24,
     "metadata": {},
     "output_type": "execute_result"
    }
   ],
   "source": [
    "airbnb[\"overall_satisfaction\"].value_counts()/airbnb[\"overall_satisfaction\"].count()"
   ]
  },
  {
   "cell_type": "markdown",
   "id": "1933bcc2",
   "metadata": {},
   "source": [
    "<p> 51% of the properties are rated 5 Star for the overall satisfaction </p>"
   ]
  },
  {
   "cell_type": "markdown",
   "id": "4e31fd44",
   "metadata": {},
   "source": [
    "<h5> Count of each accomodation value to understand where is the most availability.The properties with can accomodate 2 people are most available </h5>"
   ]
  },
  {
   "cell_type": "code",
   "execution_count": 25,
   "id": "ade23089",
   "metadata": {},
   "outputs": [
    {
     "data": {
      "text/plain": [
       "2     9996\n",
       "4     5563\n",
       "3     1583\n",
       "6      475\n",
       "5      470\n",
       "1      355\n",
       "8      105\n",
       "7       52\n",
       "16      18\n",
       "10      16\n",
       "12       9\n",
       "9        8\n",
       "14       6\n",
       "11       2\n",
       "13       1\n",
       "17       1\n",
       "Name: accommodates, dtype: int64"
      ]
     },
     "execution_count": 25,
     "metadata": {},
     "output_type": "execute_result"
    }
   ],
   "source": [
    "airbnb[\"accommodates\"].value_counts()"
   ]
  },
  {
   "cell_type": "markdown",
   "id": "ade6eb50",
   "metadata": {},
   "source": [
    "<h5>Most common price range for the properties</h5>"
   ]
  },
  {
   "cell_type": "code",
   "execution_count": 26,
   "id": "9bd48d84",
   "metadata": {},
   "outputs": [
    {
     "data": {
      "text/plain": [
       "119.0    1023\n",
       "180.0     999\n",
       "144.0     886\n",
       "150.0     621\n",
       "132.0     587\n",
       "         ... \n",
       "435.0       1\n",
       "339.0       1\n",
       "337.0       1\n",
       "369.0       1\n",
       "28.0        1\n",
       "Name: price, Length: 419, dtype: int64"
      ]
     },
     "execution_count": 26,
     "metadata": {},
     "output_type": "execute_result"
    }
   ],
   "source": [
    "airbnb[\"price\"].value_counts()"
   ]
  },
  {
   "cell_type": "markdown",
   "id": "0544428a",
   "metadata": {},
   "source": [
    "<h5> Properties proposition by number of bedrooms </h5>"
   ]
  },
  {
   "cell_type": "code",
   "execution_count": 27,
   "id": "7048b0dd",
   "metadata": {},
   "outputs": [
    {
     "data": {
      "text/plain": [
       "1.0     11038\n",
       "2.0      4456\n",
       "3.0      1444\n",
       "0.0      1154\n",
       "4.0       473\n",
       "5.0        62\n",
       "6.0        19\n",
       "10.0        5\n",
       "7.0         4\n",
       "8.0         3\n",
       "9.0         2\n",
       "Name: bedrooms, dtype: int64"
      ]
     },
     "execution_count": 27,
     "metadata": {},
     "output_type": "execute_result"
    }
   ],
   "source": [
    "airbnb[\"bedrooms\"].value_counts()"
   ]
  },
  {
   "cell_type": "code",
   "execution_count": 28,
   "id": "3a7f91d6",
   "metadata": {},
   "outputs": [
    {
     "data": {
      "text/plain": [
       "1.0     0.591533\n",
       "2.0     0.238800\n",
       "3.0     0.077385\n",
       "0.0     0.061844\n",
       "4.0     0.025348\n",
       "5.0     0.003323\n",
       "6.0     0.001018\n",
       "10.0    0.000268\n",
       "7.0     0.000214\n",
       "8.0     0.000161\n",
       "9.0     0.000107\n",
       "Name: bedrooms, dtype: float64"
      ]
     },
     "execution_count": 28,
     "metadata": {},
     "output_type": "execute_result"
    }
   ],
   "source": [
    "airbnb[\"bedrooms\"].value_counts()/airbnb[\"bedrooms\"].count()"
   ]
  },
  {
   "cell_type": "markdown",
   "id": "45a38ee8",
   "metadata": {},
   "source": [
    "<p> 59% of the properties listed have 1 bedroom. 83% of the properties are either 1 bedroom or 2 bedroom set </p>"
   ]
  },
  {
   "cell_type": "markdown",
   "id": "9dd9dd52",
   "metadata": {},
   "source": [
    "<h5> Since the data which have 0 bedroom are very less, we would drop those data point </h5>"
   ]
  },
  {
   "cell_type": "code",
   "execution_count": 29,
   "id": "724b1e5f",
   "metadata": {},
   "outputs": [],
   "source": [
    "airbnb = airbnb[airbnb[\"bedrooms\"]!=0]"
   ]
  },
  {
   "cell_type": "code",
   "execution_count": 30,
   "id": "724b7bf8",
   "metadata": {},
   "outputs": [
    {
     "data": {
      "text/plain": [
       "1.0     11038\n",
       "2.0      4456\n",
       "3.0      1444\n",
       "4.0       473\n",
       "5.0        62\n",
       "6.0        19\n",
       "10.0        5\n",
       "7.0         4\n",
       "8.0         3\n",
       "9.0         2\n",
       "Name: bedrooms, dtype: int64"
      ]
     },
     "execution_count": 30,
     "metadata": {},
     "output_type": "execute_result"
    }
   ],
   "source": [
    "airbnb[\"bedrooms\"].value_counts()"
   ]
  },
  {
   "cell_type": "code",
   "execution_count": 31,
   "id": "68880ecb",
   "metadata": {},
   "outputs": [
    {
     "name": "stdout",
     "output_type": "stream",
     "text": [
      "<class 'pandas.core.frame.DataFrame'>\n",
      "Int64Index: 17506 entries, 33 to 18722\n",
      "Data columns (total 14 columns):\n",
      " #   Column                Non-Null Count  Dtype  \n",
      "---  ------                --------------  -----  \n",
      " 0   room_id               17506 non-null  int64  \n",
      " 1   host_id               17506 non-null  int64  \n",
      " 2   room_type             17506 non-null  object \n",
      " 3   neighborhood          17506 non-null  object \n",
      " 4   reviews               17506 non-null  int64  \n",
      " 5   overall_satisfaction  17506 non-null  float64\n",
      " 6   accommodates          17506 non-null  int64  \n",
      " 7   bedrooms              17506 non-null  float64\n",
      " 8   price                 17506 non-null  float64\n",
      " 9   name                  17460 non-null  object \n",
      " 10  last_modified         17506 non-null  object \n",
      " 11  latitude              17506 non-null  float64\n",
      " 12  longitude             17506 non-null  float64\n",
      " 13  location              17506 non-null  object \n",
      "dtypes: float64(5), int64(4), object(5)\n",
      "memory usage: 2.0+ MB\n"
     ]
    }
   ],
   "source": [
    "airbnb.info()"
   ]
  },
  {
   "cell_type": "code",
   "execution_count": 32,
   "id": "80eb1d52",
   "metadata": {},
   "outputs": [
    {
     "data": {
      "text/html": [
       "<div>\n",
       "<style scoped>\n",
       "    .dataframe tbody tr th:only-of-type {\n",
       "        vertical-align: middle;\n",
       "    }\n",
       "\n",
       "    .dataframe tbody tr th {\n",
       "        vertical-align: top;\n",
       "    }\n",
       "\n",
       "    .dataframe thead th {\n",
       "        text-align: right;\n",
       "    }\n",
       "</style>\n",
       "<table border=\"1\" class=\"dataframe\">\n",
       "  <thead>\n",
       "    <tr style=\"text-align: right;\">\n",
       "      <th></th>\n",
       "      <th>room_id</th>\n",
       "      <th>host_id</th>\n",
       "      <th>reviews</th>\n",
       "      <th>overall_satisfaction</th>\n",
       "      <th>accommodates</th>\n",
       "      <th>bedrooms</th>\n",
       "      <th>price</th>\n",
       "      <th>latitude</th>\n",
       "      <th>longitude</th>\n",
       "    </tr>\n",
       "  </thead>\n",
       "  <tbody>\n",
       "    <tr>\n",
       "      <th>count</th>\n",
       "      <td>1.750600e+04</td>\n",
       "      <td>1.750600e+04</td>\n",
       "      <td>17506.000000</td>\n",
       "      <td>17506.000000</td>\n",
       "      <td>17506.000000</td>\n",
       "      <td>17506.000000</td>\n",
       "      <td>17506.000000</td>\n",
       "      <td>17506.000000</td>\n",
       "      <td>17506.000000</td>\n",
       "    </tr>\n",
       "    <tr>\n",
       "      <th>mean</th>\n",
       "      <td>1.108287e+07</td>\n",
       "      <td>3.509582e+07</td>\n",
       "      <td>16.368959</td>\n",
       "      <td>4.531932</td>\n",
       "      <td>2.960642</td>\n",
       "      <td>1.526220</td>\n",
       "      <td>169.137267</td>\n",
       "      <td>52.365207</td>\n",
       "      <td>4.888416</td>\n",
       "    </tr>\n",
       "    <tr>\n",
       "      <th>std</th>\n",
       "      <td>6.080450e+06</td>\n",
       "      <td>3.710345e+07</td>\n",
       "      <td>32.796906</td>\n",
       "      <td>0.441955</td>\n",
       "      <td>1.333545</td>\n",
       "      <td>0.825627</td>\n",
       "      <td>111.009236</td>\n",
       "      <td>0.015112</td>\n",
       "      <td>0.034722</td>\n",
       "    </tr>\n",
       "    <tr>\n",
       "      <th>min</th>\n",
       "      <td>2.818000e+03</td>\n",
       "      <td>2.234000e+03</td>\n",
       "      <td>0.000000</td>\n",
       "      <td>1.000000</td>\n",
       "      <td>1.000000</td>\n",
       "      <td>1.000000</td>\n",
       "      <td>12.000000</td>\n",
       "      <td>52.296200</td>\n",
       "      <td>4.763264</td>\n",
       "    </tr>\n",
       "    <tr>\n",
       "      <th>25%</th>\n",
       "      <td>5.923722e+06</td>\n",
       "      <td>7.004309e+06</td>\n",
       "      <td>2.000000</td>\n",
       "      <td>4.000000</td>\n",
       "      <td>2.000000</td>\n",
       "      <td>1.000000</td>\n",
       "      <td>113.000000</td>\n",
       "      <td>52.355177</td>\n",
       "      <td>4.863899</td>\n",
       "    </tr>\n",
       "    <tr>\n",
       "      <th>50%</th>\n",
       "      <td>1.210997e+07</td>\n",
       "      <td>1.956281e+07</td>\n",
       "      <td>6.000000</td>\n",
       "      <td>4.500000</td>\n",
       "      <td>2.000000</td>\n",
       "      <td>1.000000</td>\n",
       "      <td>144.000000</td>\n",
       "      <td>52.364507</td>\n",
       "      <td>4.885528</td>\n",
       "    </tr>\n",
       "    <tr>\n",
       "      <th>75%</th>\n",
       "      <td>1.643984e+07</td>\n",
       "      <td>5.089235e+07</td>\n",
       "      <td>17.000000</td>\n",
       "      <td>5.000000</td>\n",
       "      <td>4.000000</td>\n",
       "      <td>2.000000</td>\n",
       "      <td>196.000000</td>\n",
       "      <td>52.374604</td>\n",
       "      <td>4.907448</td>\n",
       "    </tr>\n",
       "    <tr>\n",
       "      <th>max</th>\n",
       "      <td>2.000373e+07</td>\n",
       "      <td>1.418319e+08</td>\n",
       "      <td>532.000000</td>\n",
       "      <td>5.000000</td>\n",
       "      <td>17.000000</td>\n",
       "      <td>10.000000</td>\n",
       "      <td>6000.000000</td>\n",
       "      <td>52.424980</td>\n",
       "      <td>5.027689</td>\n",
       "    </tr>\n",
       "  </tbody>\n",
       "</table>\n",
       "</div>"
      ],
      "text/plain": [
       "            room_id       host_id       reviews  overall_satisfaction  \\\n",
       "count  1.750600e+04  1.750600e+04  17506.000000          17506.000000   \n",
       "mean   1.108287e+07  3.509582e+07     16.368959              4.531932   \n",
       "std    6.080450e+06  3.710345e+07     32.796906              0.441955   \n",
       "min    2.818000e+03  2.234000e+03      0.000000              1.000000   \n",
       "25%    5.923722e+06  7.004309e+06      2.000000              4.000000   \n",
       "50%    1.210997e+07  1.956281e+07      6.000000              4.500000   \n",
       "75%    1.643984e+07  5.089235e+07     17.000000              5.000000   \n",
       "max    2.000373e+07  1.418319e+08    532.000000              5.000000   \n",
       "\n",
       "       accommodates      bedrooms         price      latitude     longitude  \n",
       "count  17506.000000  17506.000000  17506.000000  17506.000000  17506.000000  \n",
       "mean       2.960642      1.526220    169.137267     52.365207      4.888416  \n",
       "std        1.333545      0.825627    111.009236      0.015112      0.034722  \n",
       "min        1.000000      1.000000     12.000000     52.296200      4.763264  \n",
       "25%        2.000000      1.000000    113.000000     52.355177      4.863899  \n",
       "50%        2.000000      1.000000    144.000000     52.364507      4.885528  \n",
       "75%        4.000000      2.000000    196.000000     52.374604      4.907448  \n",
       "max       17.000000     10.000000   6000.000000     52.424980      5.027689  "
      ]
     },
     "execution_count": 32,
     "metadata": {},
     "output_type": "execute_result"
    }
   ],
   "source": [
    "airbnb.describe()"
   ]
  },
  {
   "cell_type": "markdown",
   "id": "f8bfc5eb",
   "metadata": {},
   "source": [
    "# Plotting the visuals\n",
    "####  <font color='Red'>Illustrating the major features of the distribution of the data - Histograms</font>"
   ]
  },
  {
   "cell_type": "markdown",
   "id": "44f25ecf",
   "metadata": {},
   "source": [
    "<h5> Histogram of reviews where bins are 20 and range is in between 0 to 100 </h5>"
   ]
  },
  {
   "cell_type": "code",
   "execution_count": 33,
   "id": "865be719",
   "metadata": {},
   "outputs": [
    {
     "data": {
      "text/plain": [
       "(array([7292., 3231., 1943., 1235.,  836.,  577.,  411.,  321.,  232.,\n",
       "         196.,  159.,  115.,   91.,   77.,   82.,   51.,   49.,   45.,\n",
       "          44.,   57.]),\n",
       " array([  0.,   5.,  10.,  15.,  20.,  25.,  30.,  35.,  40.,  45.,  50.,\n",
       "         55.,  60.,  65.,  70.,  75.,  80.,  85.,  90.,  95., 100.]),\n",
       " <BarContainer object of 20 artists>)"
      ]
     },
     "execution_count": 33,
     "metadata": {},
     "output_type": "execute_result"
    },
    {
     "data": {
      "image/png": "[encoded data removed]",
      "text/plain": [
       "<Figure size 640x480 with 1 Axes>"
      ]
     },
     "metadata": {},
     "output_type": "display_data"
    }
   ],
   "source": [
    "plt.hist(airbnb[\"reviews\"],bins=20,range=(0,100))"
   ]
  },
  {
   "cell_type": "markdown",
   "id": "2bd8615f",
   "metadata": {},
   "source": [
    "<h5>Histogram of price </h5>"
   ]
  },
  {
   "cell_type": "code",
   "execution_count": 34,
   "id": "1e52c606",
   "metadata": {},
   "outputs": [
    {
     "data": {
      "text/plain": [
       "(array([1.870e+02, 2.858e+03, 5.970e+03, 4.259e+03, 2.002e+03, 7.720e+02,\n",
       "        6.360e+02, 3.180e+02, 1.560e+02, 1.530e+02, 6.200e+01, 3.800e+01,\n",
       "        1.000e+01, 1.600e+01, 2.000e+01, 1.200e+01, 6.000e+00, 1.000e+00,\n",
       "        5.000e+00, 3.000e+00]),\n",
       " array([   0.,   50.,  100.,  150.,  200.,  250.,  300.,  350.,  400.,\n",
       "         450.,  500.,  550.,  600.,  650.,  700.,  750.,  800.,  850.,\n",
       "         900.,  950., 1000.]),\n",
       " <BarContainer object of 20 artists>)"
      ]
     },
     "execution_count": 34,
     "metadata": {},
     "output_type": "execute_result"
    },
    {
     "data": {
      "image/png": "[encoded data removed]",
      "text/plain": [
       "<Figure size 640x480 with 1 Axes>"
      ]
     },
     "metadata": {},
     "output_type": "display_data"
    }
   ],
   "source": [
    "plt.hist(airbnb[\"price\"], bins = 20, range = (0,1000))"
   ]
  },
  {
   "cell_type": "markdown",
   "id": "dd5792da",
   "metadata": {},
   "source": [
    "<h5>Histogram of accomodates where the bins are 16 </h5>"
   ]
  },
  {
   "cell_type": "code",
   "execution_count": 35,
   "id": "babb18a9",
   "metadata": {},
   "outputs": [
    {
     "data": {
      "text/plain": [
       "(array([3.250e+02, 9.105e+03, 1.489e+03, 5.437e+03, 4.640e+02, 4.710e+02,\n",
       "        5.200e+01, 1.050e+02, 8.000e+00, 1.500e+01, 2.000e+00, 8.000e+00,\n",
       "        0.000e+00, 6.000e+00, 0.000e+00, 1.900e+01]),\n",
       " array([ 1.,  2.,  3.,  4.,  5.,  6.,  7.,  8.,  9., 10., 11., 12., 13.,\n",
       "        14., 15., 16., 17.]),\n",
       " <BarContainer object of 16 artists>)"
      ]
     },
     "execution_count": 35,
     "metadata": {},
     "output_type": "execute_result"
    },
    {
     "data": {
      "image/png": "[encoded data removed]",
      "text/plain": [
       "<Figure size 640x480 with 1 Axes>"
      ]
     },
     "metadata": {},
     "output_type": "display_data"
    }
   ],
   "source": [
    "plt.hist(airbnb[\"accommodates\"], bins = 16)"
   ]
  },
  {
   "cell_type": "markdown",
   "id": "f4858b66",
   "metadata": {},
   "source": [
    "<h5>Histrogram of overall satisfaction</h5>"
   ]
  },
  {
   "cell_type": "code",
   "execution_count": 36,
   "id": "f4497f34",
   "metadata": {},
   "outputs": [
    {
     "data": {
      "text/plain": [
       "(array([1.000e+00, 0.000e+00, 0.000e+00, 1.000e+00, 0.000e+00, 1.500e+01,\n",
       "        9.500e+01, 5.902e+03, 4.226e+03, 7.266e+03]),\n",
       " array([1. , 1.4, 1.8, 2.2, 2.6, 3. , 3.4, 3.8, 4.2, 4.6, 5. ]),\n",
       " <BarContainer object of 10 artists>)"
      ]
     },
     "execution_count": 36,
     "metadata": {},
     "output_type": "execute_result"
    },
    {
     "data": {
      "image/png": "[encoded data removed]",
      "text/plain": [
       "<Figure size 640x480 with 1 Axes>"
      ]
     },
     "metadata": {},
     "output_type": "display_data"
    }
   ],
   "source": [
    "plt.hist(airbnb[\"overall_satisfaction\"])"
   ]
  },
  {
   "cell_type": "markdown",
   "id": "0bdfd8b3",
   "metadata": {},
   "source": [
    "<h5>Histogram of overall satisfaction where price is greater than 100 and less than equal than 200 </h5>"
   ]
  },
  {
   "cell_type": "code",
   "execution_count": 37,
   "id": "24fb3761",
   "metadata": {},
   "outputs": [],
   "source": [
    "airbnb_pricefiltered = airbnb[(airbnb[\"price\"]>=100) & (airbnb[\"price\"]<=200)]"
   ]
  },
  {
   "cell_type": "code",
   "execution_count": 38,
   "id": "e9b94620",
   "metadata": {},
   "outputs": [
    {
     "data": {
      "text/plain": [
       "(array([   6.,    0.,   43.,    0.,    0., 3291.,    0., 2489.,    0.,\n",
       "        4401.]),\n",
       " array([3. , 3.2, 3.4, 3.6, 3.8, 4. , 4.2, 4.4, 4.6, 4.8, 5. ]),\n",
       " <BarContainer object of 10 artists>)"
      ]
     },
     "execution_count": 38,
     "metadata": {},
     "output_type": "execute_result"
    },
    {
     "data": {
      "image/png": "[encoded data removed]",
      "text/plain": [
       "<Figure size 640x480 with 1 Axes>"
      ]
     },
     "metadata": {},
     "output_type": "display_data"
    }
   ],
   "source": [
    "plt.hist(airbnb_pricefiltered[\"overall_satisfaction\"])"
   ]
  },
  {
   "cell_type": "markdown",
   "id": "41630b65",
   "metadata": {},
   "source": [
    "<h5>Histogram of overall satisfaction where the price is less than 50 </h5>"
   ]
  },
  {
   "cell_type": "code",
   "execution_count": 39,
   "id": "3c0cd1b7",
   "metadata": {},
   "outputs": [
    {
     "data": {
      "text/plain": [
       "(array([ 2.,  0.,  0., 78.,  0.,  0., 61.,  0.,  0., 46.]),\n",
       " array([3.5 , 3.65, 3.8 , 3.95, 4.1 , 4.25, 4.4 , 4.55, 4.7 , 4.85, 5.  ]),\n",
       " <BarContainer object of 10 artists>)"
      ]
     },
     "execution_count": 39,
     "metadata": {},
     "output_type": "execute_result"
    },
    {
     "data": {
      "image/png": "[encoded data removed]",
      "text/plain": [
       "<Figure size 640x480 with 1 Axes>"
      ]
     },
     "metadata": {},
     "output_type": "display_data"
    }
   ],
   "source": [
    "airbnb_pricefiltered = airbnb[airbnb[\"price\"]<50]\n",
    "plt.hist(airbnb_pricefiltered[\"overall_satisfaction\"])"
   ]
  },
  {
   "cell_type": "markdown",
   "id": "211e8efd",
   "metadata": {},
   "source": [
    "<h5>Histogram of overall satisfaction where the price is greater than 200 </h5>"
   ]
  },
  {
   "cell_type": "code",
   "execution_count": 40,
   "id": "a1b17542",
   "metadata": {},
   "outputs": [
    {
     "data": {
      "text/plain": [
       "(array([1.000e+00, 0.000e+00, 4.000e+00, 0.000e+00, 1.700e+01, 0.000e+00,\n",
       "        1.550e+03, 0.000e+00, 7.850e+02, 1.874e+03]),\n",
       " array([2.5 , 2.75, 3.  , 3.25, 3.5 , 3.75, 4.  , 4.25, 4.5 , 4.75, 5.  ]),\n",
       " <BarContainer object of 10 artists>)"
      ]
     },
     "execution_count": 40,
     "metadata": {},
     "output_type": "execute_result"
    },
    {
     "data": {
      "image/png": "[encoded data removed]",
      "text/plain": [
       "<Figure size 640x480 with 1 Axes>"
      ]
     },
     "metadata": {},
     "output_type": "display_data"
    }
   ],
   "source": [
    "airbnb_pricefiltered = airbnb[airbnb[\"price\"]>200]\n",
    "plt.hist(airbnb_pricefiltered[\"overall_satisfaction\"])"
   ]
  },
  {
   "cell_type": "markdown",
   "id": "d8531e89",
   "metadata": {},
   "source": [
    "<h5>Histogram of overall satisfaction where the price is greater than 300 </h5>"
   ]
  },
  {
   "cell_type": "code",
   "execution_count": 41,
   "id": "2d2ea161",
   "metadata": {},
   "outputs": [
    {
     "data": {
      "text/plain": [
       "(array([  1.,   0.,   0.,   0.,   5.,   0., 402.,   0., 198., 481.]),\n",
       " array([2.5 , 2.75, 3.  , 3.25, 3.5 , 3.75, 4.  , 4.25, 4.5 , 4.75, 5.  ]),\n",
       " <BarContainer object of 10 artists>)"
      ]
     },
     "execution_count": 41,
     "metadata": {},
     "output_type": "execute_result"
    },
    {
     "data": {
      "image/png": "[encoded data removed]",
      "text/plain": [
       "<Figure size 640x480 with 1 Axes>"
      ]
     },
     "metadata": {},
     "output_type": "display_data"
    }
   ],
   "source": [
    "airbnb_pricefiltered = airbnb[airbnb[\"price\"]>300]\n",
    "plt.hist(airbnb_pricefiltered[\"overall_satisfaction\"])"
   ]
  },
  {
   "cell_type": "markdown",
   "id": "69c734c6",
   "metadata": {},
   "source": [
    "####  <font color='Red'>Discovering the relationships between the variables - Scatterplots</font>"
   ]
  },
  {
   "cell_type": "markdown",
   "id": "628e4c2e",
   "metadata": {},
   "source": [
    "<h5>Relationship between price and reviews </h5>"
   ]
  },
  {
   "cell_type": "code",
   "execution_count": 42,
   "id": "d7c1dcbb",
   "metadata": {},
   "outputs": [
    {
     "data": {
      "text/plain": [
       "<matplotlib.collections.PathCollection at 0x1c85a550eb0>"
      ]
     },
     "execution_count": 42,
     "metadata": {},
     "output_type": "execute_result"
    },
    {
     "data": {
      "image/png": "[encoded data removed]",
      "text/plain": [
       "<Figure size 640x480 with 1 Axes>"
      ]
     },
     "metadata": {},
     "output_type": "display_data"
    }
   ],
   "source": [
    "plt.scatter(airbnb[\"price\"], airbnb[\"reviews\"])"
   ]
  },
  {
   "cell_type": "markdown",
   "id": "04e61707",
   "metadata": {},
   "source": [
    "<h5>Relationship between accomodation and price </h5>"
   ]
  },
  {
   "cell_type": "code",
   "execution_count": 43,
   "id": "fe6a351e",
   "metadata": {},
   "outputs": [
    {
     "data": {
      "text/plain": [
       "<matplotlib.collections.PathCollection at 0x1c85a67e7a0>"
      ]
     },
     "execution_count": 43,
     "metadata": {},
     "output_type": "execute_result"
    },
    {
     "data": {
      "image/png": "[encoded data removed]",
      "text/plain": [
       "<Figure size 640x480 with 1 Axes>"
      ]
     },
     "metadata": {},
     "output_type": "display_data"
    }
   ],
   "source": [
    "plt.scatter(airbnb[\"accommodates\"], airbnb[\"price\"])"
   ]
  },
  {
   "cell_type": "markdown",
   "id": "99985b82",
   "metadata": {},
   "source": [
    "<h5>Relation ship between price and overall satisfaction </h5>"
   ]
  },
  {
   "cell_type": "code",
   "execution_count": 44,
   "id": "e96f0bdf",
   "metadata": {},
   "outputs": [
    {
     "data": {
      "text/plain": [
       "<matplotlib.collections.PathCollection at 0x1c85a711300>"
      ]
     },
     "execution_count": 44,
     "metadata": {},
     "output_type": "execute_result"
    },
    {
     "data": {
      "image/png": "[encoded data removed]",
      "text/plain": [
       "<Figure size 640x480 with 1 Axes>"
      ]
     },
     "metadata": {},
     "output_type": "display_data"
    }
   ],
   "source": [
    "plt.scatter(airbnb[\"overall_satisfaction\"], airbnb[\"price\"])"
   ]
  },
  {
   "cell_type": "markdown",
   "id": "890dee0a",
   "metadata": {},
   "source": [
    "<h5> Relationship between price and number of bedrooms </h5>"
   ]
  },
  {
   "cell_type": "code",
   "execution_count": 45,
   "id": "ffd6441a",
   "metadata": {},
   "outputs": [
    {
     "data": {
      "text/plain": [
       "<matplotlib.collections.PathCollection at 0x1c85a78e650>"
      ]
     },
     "execution_count": 45,
     "metadata": {},
     "output_type": "execute_result"
    },
    {
     "data": {
      "image/png": "[encoded data removed]",
      "text/plain": [
       "<Figure size 640x480 with 1 Axes>"
      ]
     },
     "metadata": {},
     "output_type": "display_data"
    }
   ],
   "source": [
    "plt.scatter(airbnb[\"bedrooms\"], airbnb[\"price\"])"
   ]
  },
  {
   "cell_type": "markdown",
   "id": "78c3d53f",
   "metadata": {},
   "source": [
    "<h5>In which neighbourhood most of the accomodation is availble (plotting the count of neighbourhood)</h5>"
   ]
  },
  {
   "cell_type": "code",
   "execution_count": 46,
   "id": "6e8d0e01",
   "metadata": {},
   "outputs": [
    {
     "data": {
      "text/plain": [
       "<AxesSubplot: >"
      ]
     },
     "execution_count": 46,
     "metadata": {},
     "output_type": "execute_result"
    },
    {
     "data": {
      "image/png": "[encoded data removed]",
      "text/plain": [
       "<Figure size 2000x500 with 1 Axes>"
      ]
     },
     "metadata": {},
     "output_type": "display_data"
    }
   ],
   "source": [
    "airbnb[\"neighborhood\"].value_counts().plot(kind='bar',figsize=(20,5))"
   ]
  },
  {
   "cell_type": "markdown",
   "id": "e4facb23",
   "metadata": {},
   "source": [
    "<h5> Removing the data where the price is greater than 1500 </h5>\n",
    "<p> as we can see from the above scatterplot graphs, there are very few properties which are costing more than $1500. We can easily consider them as outliers and remove them from our final datasets</p> "
   ]
  },
  {
   "cell_type": "code",
   "execution_count": 47,
   "id": "2b4e3f31",
   "metadata": {},
   "outputs": [],
   "source": [
    "airbnb = airbnb[airbnb[\"price\"]<1500]"
   ]
  },
  {
   "cell_type": "markdown",
   "id": "57deac62",
   "metadata": {},
   "source": [
    "# Training & testing the data model for price prediction "
   ]
  },
  {
   "cell_type": "code",
   "execution_count": 48,
   "id": "42279663",
   "metadata": {},
   "outputs": [],
   "source": [
    "# Import scikit learn for linear regression\n",
    "#create a X paramter (independent variable) by taking the column reviews, overall satisfaction , accomodates and bedroom\n",
    "# creat a Y paramter by taking price\n",
    "# split the data into test and train - 30% for testing \n",
    "# initialise and fit the linear regression."
   ]
  }
 ],
 "metadata": {
  "kernelspec": {
   "display_name": "Python 3 (ipykernel)",
   "language": "python",
   "name": "python3"
  },
  "language_info": {
   "codemirror_mode": {
    "name": "ipython",
    "version": 3
   },
   "file_extension": ".py",
   "mimetype": "text/x-python",
   "name": "python",
   "nbconvert_exporter": "python",
   "pygments_lexer": "ipython3",
   "version": "3.10.7"
  }
 },
 "nbformat": 4,
 "nbformat_minor": 5
}
